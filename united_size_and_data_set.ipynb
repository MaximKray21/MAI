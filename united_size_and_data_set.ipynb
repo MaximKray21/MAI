{
 "cells": [
  {
   "cell_type": "markdown",
   "id": "2561fd4c",
   "metadata": {},
   "source": [
    "## Перевод изображений в единый формат, создание набора данных. \n",
    "Сперва найдем наименьший формат среди имеющихся через цикл. Затем сожмем все файлы до такого же размера. После этого можно будет перевести фотографии в признаковое описание. Как именно? Каждый пиксель в формате RGB имеет свое значение. Так, мы можем перевести пиксель в значение, а их все в вектор."
   ]
  },
  {
   "cell_type": "markdown",
   "id": "c959e2ba",
   "metadata": {},
   "source": [
    "**Наименьший формат**"
   ]
  },
  {
   "cell_type": "markdown",
   "id": "49b5dda5",
   "metadata": {},
   "source": [
    "В первую очередь соберем названия всех файлов из облака google для простоты их использования "
   ]
  },
  {
   "cell_type": "code",
   "execution_count": 3,
   "id": "e7cc7426",
   "metadata": {
    "scrolled": true
   },
   "outputs": [],
   "source": [
    "import warnings\n",
    "warnings.filterwarnings(\"ignore\")"
   ]
  },
  {
   "cell_type": "code",
   "execution_count": 4,
   "id": "978245c1",
   "metadata": {},
   "outputs": [],
   "source": [
    "from os import listdir\n",
    "from os.path import isfile, join\n",
    "mypath = 'H:\\\\Учёба\\\\Уирс\\\\3 сем\\\\Img_city'\n",
    "lst_of_cities = [f for f in listdir(mypath) if isfile(join(mypath, f))][1:]"
   ]
  },
  {
   "cell_type": "code",
   "execution_count": 5,
   "id": "012be76e",
   "metadata": {},
   "outputs": [
    {
     "data": {
      "text/plain": [
       "123"
      ]
     },
     "execution_count": 5,
     "metadata": {},
     "output_type": "execute_result"
    }
   ],
   "source": [
    "len(lst_of_cities)"
   ]
  },
  {
   "cell_type": "markdown",
   "id": "23ba6038",
   "metadata": {},
   "source": [
    "Теперь, когда названия файлов хранятся отдельно в списке, мы можем начинать работу с ними. Попробуем найти наименьшее разрешение."
   ]
  },
  {
   "cell_type": "code",
   "execution_count": null,
   "id": "400ac967",
   "metadata": {},
   "outputs": [],
   "source": [
    "from PIL import Image"
   ]
  },
  {
   "cell_type": "code",
   "execution_count": 15,
   "id": "761630c4",
   "metadata": {
    "scrolled": true
   },
   "outputs": [],
   "source": [
    "lst_of_cities_images = {}\n",
    "sizes = []\n",
    "modes = []\n",
    "for i in lst_of_cities:\n",
    "    \n",
    "    myimage = Image.open('H:\\\\Учёба\\\\Уирс\\\\3 сем\\\\Img_city' + \"\\\\\" + i)  \n",
    "    myimage.load()\n",
    "    lst_of_cities_images[i] = myimage\n",
    "    sizes.append(myimage.size)\n",
    "    modes.append(myimage.mode)"
   ]
  },
  {
   "cell_type": "markdown",
   "id": "de14112e",
   "metadata": {},
   "source": [
    "Из полученного списка значений разрешений найдем минимальное"
   ]
  },
  {
   "cell_type": "code",
   "execution_count": 4,
   "id": "b58774bd",
   "metadata": {},
   "outputs": [
    {
     "data": {
      "text/plain": [
       "(604, 448)"
      ]
     },
     "execution_count": 4,
     "metadata": {},
     "output_type": "execute_result"
    }
   ],
   "source": [
    "min_size = min(sizes)\n",
    "min_size"
   ]
  },
  {
   "cell_type": "markdown",
   "id": "16df63b9",
   "metadata": {},
   "source": [
    "Теперь приведем все остальные картинки к этому же разрешению и сохраним в одну папку"
   ]
  },
  {
   "cell_type": "code",
   "execution_count": 9,
   "id": "e7eba666",
   "metadata": {},
   "outputs": [],
   "source": [
    "names_of_pictures = []\n",
    "for i in range(len(lst_of_cities)):\n",
    "    lst = lst_of_cities[i].split('.')\n",
    "#     size = min_size\n",
    "#     saved = lst_of_cities[i]\n",
    "#     img = Image.open('H:\\\\Учёба\\\\Уирс\\\\3 сем\\\\Img_city' + '\\\\' + lst_of_cities[i])\n",
    "#     img.thumbnail(size)\n",
    "#     img.save('H:\\\\Учёба\\\\Уирс\\\\3 сем\\\\Img_city_1' + '\\\\' + lst[0] + 'miniature.' + lst[1])\n",
    "    names_of_pictures.append(lst[0] + 'miniature.' + lst[1])"
   ]
  },
  {
   "cell_type": "markdown",
   "id": "beffea27",
   "metadata": {},
   "source": [
    "Проверим минимальное разрешение среди всех новых файлов"
   ]
  },
  {
   "cell_type": "code",
   "execution_count": 7,
   "id": "bd853e9d",
   "metadata": {},
   "outputs": [],
   "source": [
    "# нужно создать список с наборами пикселей для каждой картинки, используя \n",
    "# метод \".getdata()\"\n",
    "sizes_1 = []\n",
    "modes_1 = []\n",
    "for i in names_of_pictures:\n",
    "    myimage = Image.open('H:\\\\Учёба\\\\Уирс\\\\3 сем\\\\Img_city_1' + \"\\\\\" + i)  \n",
    "    myimage.load()\n",
    "    \n",
    "    sizes_1.append(myimage.size)\n",
    "    modes_1.append(myimage.mode)"
   ]
  },
  {
   "cell_type": "code",
   "execution_count": 8,
   "id": "33f4a5cd",
   "metadata": {},
   "outputs": [],
   "source": [
    "min_a, min_b = min_size[0], min_size[1]\n",
    "for i in sizes_1:\n",
    "    min_a = min(min_a, i[0])\n",
    "    min_b = min(min_b, i[1])"
   ]
  },
  {
   "cell_type": "code",
   "execution_count": 9,
   "id": "315e5ade",
   "metadata": {},
   "outputs": [
    {
     "data": {
      "text/plain": [
       "(589, 410)"
      ]
     },
     "execution_count": 9,
     "metadata": {},
     "output_type": "execute_result"
    }
   ],
   "source": [
    "min_a, min_b"
   ]
  },
  {
   "cell_type": "code",
   "execution_count": 10,
   "id": "1616ee67",
   "metadata": {},
   "outputs": [],
   "source": [
    "import numpy as np\n",
    "arr = np.asarray(myimage, dtype='uint8')"
   ]
  },
  {
   "cell_type": "code",
   "execution_count": 11,
   "id": "a1cc8758",
   "metadata": {},
   "outputs": [
    {
     "data": {
      "text/plain": [
       "(604, 426)"
      ]
     },
     "execution_count": 11,
     "metadata": {},
     "output_type": "execute_result"
    }
   ],
   "source": [
    "myimage.size"
   ]
  },
  {
   "cell_type": "markdown",
   "id": "27d714cd",
   "metadata": {},
   "source": [
    "Часть ниже посвящена попытке перевода пикселей одной картинки в признаковое описание."
   ]
  },
  {
   "cell_type": "code",
   "execution_count": 41,
   "id": "d980c4d1",
   "metadata": {},
   "outputs": [],
   "source": [
    "# нужно создать список с наборами пикселей для каждой картинки, используя \n",
    "# описанный ниже метод \".getdata()\"\n",
    "pixels = list(myimage.getdata())\n",
    "\n",
    "for i in range(len(pixels)):\n",
    "    pixels[i] = pixels[i][:3]"
   ]
  },
  {
   "cell_type": "code",
   "execution_count": 17,
   "id": "74cf8ea3",
   "metadata": {},
   "outputs": [
    {
     "data": {
      "text/plain": [
       "257304"
      ]
     },
     "execution_count": 17,
     "metadata": {},
     "output_type": "execute_result"
    }
   ],
   "source": [
    "len(pixels)"
   ]
  },
  {
   "cell_type": "code",
   "execution_count": 23,
   "id": "1585c8ca",
   "metadata": {
    "scrolled": true
   },
   "outputs": [
    {
     "data": {
      "text/plain": [
       "257304"
      ]
     },
     "execution_count": 23,
     "metadata": {},
     "output_type": "execute_result"
    }
   ],
   "source": [
    "# убедимся в том, что количество пикселей соответсвует значению выше\n",
    "myimage.size[0] * myimage.size[1]"
   ]
  },
  {
   "cell_type": "code",
   "execution_count": 20,
   "id": "861ed015",
   "metadata": {},
   "outputs": [
    {
     "data": {
      "text/plain": [
       "'Ярославльminiature.png'"
      ]
     },
     "execution_count": 20,
     "metadata": {},
     "output_type": "execute_result"
    }
   ],
   "source": [
    "names_of_pictures[-1]"
   ]
  },
  {
   "cell_type": "markdown",
   "id": "9ed3ab74",
   "metadata": {},
   "source": [
    "Теперь нужно попробовать составить признаковое описание двумя способами:\n",
    "\n",
    "а) сделать просто из имеющихся картинок признаковые описания, надеясь на создание пропусков;\n",
    "\n",
    "б) обрезать каждую картинку по минимальным размерам: (min_a, min_b)"
   ]
  },
  {
   "cell_type": "code",
   "execution_count": 51,
   "id": "73b4be35",
   "metadata": {},
   "outputs": [],
   "source": [
    "import pandas as pd"
   ]
  },
  {
   "cell_type": "code",
   "execution_count": 1,
   "id": "1f6dbe0e",
   "metadata": {},
   "outputs": [],
   "source": [
    "# # данная часть кода выполняется крайне долго, поэтому мы будем использовать другой метод\n",
    "# %%time\n",
    "# data = pd.DataFrame()\n",
    "# for j in range(len(pixels)):\n",
    "#     for i in range(3):\n",
    "#         data[str(j)+ 'pixel' + str(i)] = pd.Series(pixels[j][i])\n",
    "# data"
   ]
  },
  {
   "cell_type": "markdown",
   "id": "4ef531e9",
   "metadata": {},
   "source": [
    "Возьмем те же самые файлы, но будем информацию о них хранить в другом типе данных. Размер, к которому нужно привожить также возьмем другой. Кроме всего прочего будем использовать другую библиотеку для сжатия файлов - PyTorch."
   ]
  },
  {
   "cell_type": "code",
   "execution_count": 2,
   "id": "7d97df0b",
   "metadata": {},
   "outputs": [],
   "source": [
    "import torchvision.transforms as tt"
   ]
  },
  {
   "cell_type": "code",
   "execution_count": 27,
   "id": "5a7ef294",
   "metadata": {
    "scrolled": true
   },
   "outputs": [],
   "source": [
    "# lst_of_cities_images_minized - словарь сжатых картинок\n",
    "lst_of_cities_images_minized = {}\n",
    "for k, jpeg in lst_of_cities_images.items():\n",
    "    lst_of_cities_images_minized[k] = tt.Resize((125, 125))(jpeg)"
   ]
  },
  {
   "cell_type": "code",
   "execution_count": 28,
   "id": "1a1a7faa",
   "metadata": {},
   "outputs": [],
   "source": [
    "px = lst_of_cities_images_minized[k].getdata()"
   ]
  },
  {
   "cell_type": "code",
   "execution_count": 29,
   "id": "3cf96b82",
   "metadata": {},
   "outputs": [
    {
     "data": {
      "text/plain": [
       "(15625, 'Ярославль.png')"
      ]
     },
     "execution_count": 29,
     "metadata": {},
     "output_type": "execute_result"
    }
   ],
   "source": [
    "(len(px), k)"
   ]
  },
  {
   "cell_type": "code",
   "execution_count": 30,
   "id": "e8958ef1",
   "metadata": {
    "scrolled": true
   },
   "outputs": [
    {
     "data": {
      "image/png": "[encoded data removed]",
      "text/plain": [
       "<PIL.Image.Image image mode=RGBA size=125x125 at 0x1D1C293E520>"
      ]
     },
     "execution_count": 30,
     "metadata": {},
     "output_type": "execute_result"
    }
   ],
   "source": [
    "lst_of_cities_images_minized[k]"
   ]
  },
  {
   "cell_type": "code",
   "execution_count": 34,
   "id": "af5879a6",
   "metadata": {},
   "outputs": [],
   "source": [
    "import numpy as np"
   ]
  },
  {
   "cell_type": "code",
   "execution_count": 47,
   "id": "644f5d33",
   "metadata": {},
   "outputs": [],
   "source": [
    "px = list(px)"
   ]
  },
  {
   "cell_type": "code",
   "execution_count": 48,
   "id": "8d827872",
   "metadata": {},
   "outputs": [],
   "source": [
    "for i in range(len(px)):\n",
    "    px[i] = px[i][:3]"
   ]
  },
  {
   "cell_type": "code",
   "execution_count": 57,
   "id": "344a5842",
   "metadata": {
    "scrolled": true
   },
   "outputs": [
    {
     "name": "stdout",
     "output_type": "stream",
     "text": [
      "Wall time: 31min 38s\n"
     ]
    },
    {
     "data": {
      "text/html": [
       "<div>\n",
       "<style scoped>\n",
       "    .dataframe tbody tr th:only-of-type {\n",
       "        vertical-align: middle;\n",
       "    }\n",
       "\n",
       "    .dataframe tbody tr th {\n",
       "        vertical-align: top;\n",
       "    }\n",
       "\n",
       "    .dataframe thead th {\n",
       "        text-align: right;\n",
       "    }\n",
       "</style>\n",
       "<table border=\"1\" class=\"dataframe\">\n",
       "  <thead>\n",
       "    <tr style=\"text-align: right;\">\n",
       "      <th></th>\n",
       "      <th>0pixel0</th>\n",
       "      <th>0pixel1</th>\n",
       "      <th>0pixel2</th>\n",
       "      <th>1pixel0</th>\n",
       "      <th>1pixel1</th>\n",
       "      <th>1pixel2</th>\n",
       "      <th>2pixel0</th>\n",
       "      <th>2pixel1</th>\n",
       "      <th>2pixel2</th>\n",
       "      <th>3pixel0</th>\n",
       "      <th>...</th>\n",
       "      <th>15621pixel2</th>\n",
       "      <th>15622pixel0</th>\n",
       "      <th>15622pixel1</th>\n",
       "      <th>15622pixel2</th>\n",
       "      <th>15623pixel0</th>\n",
       "      <th>15623pixel1</th>\n",
       "      <th>15623pixel2</th>\n",
       "      <th>15624pixel0</th>\n",
       "      <th>15624pixel1</th>\n",
       "      <th>15624pixel2</th>\n",
       "    </tr>\n",
       "  </thead>\n",
       "  <tbody>\n",
       "    <tr>\n",
       "      <th>0</th>\n",
       "      <td>18</td>\n",
       "      <td>50</td>\n",
       "      <td>39</td>\n",
       "      <td>12</td>\n",
       "      <td>44</td>\n",
       "      <td>34</td>\n",
       "      <td>18</td>\n",
       "      <td>49</td>\n",
       "      <td>41</td>\n",
       "      <td>21</td>\n",
       "      <td>...</td>\n",
       "      <td>28</td>\n",
       "      <td>6</td>\n",
       "      <td>26</td>\n",
       "      <td>33</td>\n",
       "      <td>6</td>\n",
       "      <td>26</td>\n",
       "      <td>34</td>\n",
       "      <td>6</td>\n",
       "      <td>26</td>\n",
       "      <td>34</td>\n",
       "    </tr>\n",
       "  </tbody>\n",
       "</table>\n",
       "<p>1 rows × 46875 columns</p>\n",
       "</div>"
      ],
      "text/plain": [
       "   0pixel0  0pixel1  0pixel2  1pixel0  1pixel1  1pixel2  2pixel0  2pixel1  \\\n",
       "0       18       50       39       12       44       34       18       49   \n",
       "\n",
       "   2pixel2  3pixel0  ...  15621pixel2  15622pixel0  15622pixel1  15622pixel2  \\\n",
       "0       41       21  ...           28            6           26           33   \n",
       "\n",
       "   15623pixel0  15623pixel1  15623pixel2  15624pixel0  15624pixel1  \\\n",
       "0            6           26           34            6           26   \n",
       "\n",
       "   15624pixel2  \n",
       "0           34  \n",
       "\n",
       "[1 rows x 46875 columns]"
      ]
     },
     "execution_count": 57,
     "metadata": {},
     "output_type": "execute_result"
    }
   ],
   "source": [
    "%%time\n",
    "data = pd.DataFrame()\n",
    "for j in range(len(px)):\n",
    "    for i in range(3):\n",
    "        data[str(j)+ 'pixel' + str(i)] = pd.Series(pixels[j][i])\n",
    "data"
   ]
  },
  {
   "cell_type": "code",
   "execution_count": 80,
   "id": "e229c1fc",
   "metadata": {
    "scrolled": true
   },
   "outputs": [],
   "source": [
    "data.to_csv('vect_prostr')"
   ]
  },
  {
   "cell_type": "code",
   "execution_count": 81,
   "id": "df0ca4e9",
   "metadata": {
    "scrolled": false
   },
   "outputs": [
    {
     "data": {
      "text/html": [
       "<div>\n",
       "<style scoped>\n",
       "    .dataframe tbody tr th:only-of-type {\n",
       "        vertical-align: middle;\n",
       "    }\n",
       "\n",
       "    .dataframe tbody tr th {\n",
       "        vertical-align: top;\n",
       "    }\n",
       "\n",
       "    .dataframe thead th {\n",
       "        text-align: right;\n",
       "    }\n",
       "</style>\n",
       "<table border=\"1\" class=\"dataframe\">\n",
       "  <thead>\n",
       "    <tr style=\"text-align: right;\">\n",
       "      <th></th>\n",
       "      <th>Unnamed: 0</th>\n",
       "      <th>0pixel0</th>\n",
       "      <th>0pixel1</th>\n",
       "      <th>0pixel2</th>\n",
       "      <th>1pixel0</th>\n",
       "      <th>1pixel1</th>\n",
       "      <th>1pixel2</th>\n",
       "      <th>2pixel0</th>\n",
       "      <th>2pixel1</th>\n",
       "      <th>2pixel2</th>\n",
       "      <th>...</th>\n",
       "      <th>15621pixel2</th>\n",
       "      <th>15622pixel0</th>\n",
       "      <th>15622pixel1</th>\n",
       "      <th>15622pixel2</th>\n",
       "      <th>15623pixel0</th>\n",
       "      <th>15623pixel1</th>\n",
       "      <th>15623pixel2</th>\n",
       "      <th>15624pixel0</th>\n",
       "      <th>15624pixel1</th>\n",
       "      <th>15624pixel2</th>\n",
       "    </tr>\n",
       "  </thead>\n",
       "  <tbody>\n",
       "    <tr>\n",
       "      <th>0</th>\n",
       "      <td>0</td>\n",
       "      <td>18</td>\n",
       "      <td>50</td>\n",
       "      <td>39</td>\n",
       "      <td>12</td>\n",
       "      <td>44</td>\n",
       "      <td>34</td>\n",
       "      <td>18</td>\n",
       "      <td>49</td>\n",
       "      <td>41</td>\n",
       "      <td>...</td>\n",
       "      <td>28</td>\n",
       "      <td>6</td>\n",
       "      <td>26</td>\n",
       "      <td>33</td>\n",
       "      <td>6</td>\n",
       "      <td>26</td>\n",
       "      <td>34</td>\n",
       "      <td>6</td>\n",
       "      <td>26</td>\n",
       "      <td>34</td>\n",
       "    </tr>\n",
       "  </tbody>\n",
       "</table>\n",
       "<p>1 rows × 46876 columns</p>\n",
       "</div>"
      ],
      "text/plain": [
       "   Unnamed: 0  0pixel0  0pixel1  0pixel2  1pixel0  1pixel1  1pixel2  2pixel0  \\\n",
       "0           0       18       50       39       12       44       34       18   \n",
       "\n",
       "   2pixel1  2pixel2  ...  15621pixel2  15622pixel0  15622pixel1  15622pixel2  \\\n",
       "0       49       41  ...           28            6           26           33   \n",
       "\n",
       "   15623pixel0  15623pixel1  15623pixel2  15624pixel0  15624pixel1  \\\n",
       "0            6           26           34            6           26   \n",
       "\n",
       "   15624pixel2  \n",
       "0           34  \n",
       "\n",
       "[1 rows x 46876 columns]"
      ]
     },
     "execution_count": 81,
     "metadata": {},
     "output_type": "execute_result"
    }
   ],
   "source": [
    "pd.read_csv('vect_prostr')"
   ]
  }
 ],
 "metadata": {
  "kernelspec": {
   "display_name": "Python 3 (ipykernel)",
   "language": "python",
   "name": "python3"
  },
  "language_info": {
   "codemirror_mode": {
    "name": "ipython",
    "version": 3
   },
   "file_extension": ".py",
   "mimetype": "text/x-python",
   "name": "python",
   "nbconvert_exporter": "python",
   "pygments_lexer": "ipython3",
   "version": "3.9.7"
  }
 },
 "nbformat": 4,
 "nbformat_minor": 5
}
