{
 "cells": [
  {
   "cell_type": "markdown",
   "id": "00bdc8df",
   "metadata": {},
   "source": [
    "# Библиотеки"
   ]
  },
  {
   "cell_type": "code",
   "execution_count": 1,
   "id": "7263f72f",
   "metadata": {},
   "outputs": [],
   "source": [
    "import numpy as np\n",
    "import pandas as pd\n",
    "import sympy"
   ]
  },
  {
   "cell_type": "markdown",
   "id": "7e14942e",
   "metadata": {},
   "source": [
    "# Исходные данные"
   ]
  },
  {
   "cell_type": "code",
   "execution_count": 2,
   "id": "78c1ac7f",
   "metadata": {},
   "outputs": [],
   "source": [
    "# r1 = r2 = 920; N_p = -690; M_p = 172.5; Q_p = -17.25\n",
    "# L = 1150\n",
    "\n",
    "r1 = r2 = 1000; N_p = -800; M_p = 200; Q_p = -30\n",
    "L = 1200\n",
    "\n",
    "sigma_02 = 160; sigma_pc = 120; sigma_star = 171.8; E = 6.8 * 1e+4; k = 0.3\n",
    "n_nodes = 8"
   ]
  },
  {
   "cell_type": "code",
   "execution_count": 3,
   "id": "a4e72d7b",
   "metadata": {},
   "outputs": [],
   "source": [
    "# не обращайте внимания\n",
    "flag = False"
   ]
  },
  {
   "cell_type": "markdown",
   "id": "32632747",
   "metadata": {},
   "source": [
    "# 7.1. Геометрия переходной фермы"
   ]
  },
  {
   "cell_type": "code",
   "execution_count": 4,
   "id": "c72f72e3",
   "metadata": {},
   "outputs": [
    {
     "name": "stdout",
     "output_type": "stream",
     "text": [
      "psi 22.5\n",
      "a 923.8795325112867\n",
      "b 382.6834323650898\n",
      "\n",
      "tg_gamma -0.06343372290726108\n",
      "cos_gamma 0.9979833457860829\n",
      "sin_gamma -0.06347630686811882\n",
      "\n",
      "h 1202.4248751914736\n",
      "l 1261.8526815305966\n",
      "\n",
      "sin_betta 0.3032710854177558\n",
      "cos_betta 0.9529043229776724\n",
      "tg_betta 0.3182597435071787\n"
     ]
    }
   ],
   "source": [
    "psi = np.pi / n_nodes\n",
    "a = r2 * np.cos(psi)\n",
    "b = r2 * np.sin(psi)\n",
    "\n",
    "tg_gamma = (a - r1) / L\n",
    "gamma = np.arctanh(tg_gamma)\n",
    "h = L / np.cos(gamma)\n",
    "l = (b ** 2 + h ** 2) ** 0.5\n",
    "\n",
    "sin_betta = b / l; cos_betta = h / l; tg_betta = b / h\n",
    "\n",
    "print('psi', np.degrees(psi))\n",
    "print('a', a)\n",
    "print('b', b)\n",
    "print()\n",
    "print('tg_gamma', tg_gamma)\n",
    "print('cos_gamma', np.cos(gamma))\n",
    "print('sin_gamma', np.sin(gamma))\n",
    "print()\n",
    "print('h', h)\n",
    "print('l', l)\n",
    "print()\n",
    "print('sin_betta', sin_betta)\n",
    "print('cos_betta', cos_betta)\n",
    "print('tg_betta', tg_betta)"
   ]
  },
  {
   "cell_type": "markdown",
   "id": "270ef618",
   "metadata": {},
   "source": [
    "# 7.2. Расчет усилий в стержнях переходной фермы"
   ]
  },
  {
   "cell_type": "markdown",
   "id": "c6a4a235",
   "metadata": {},
   "source": [
    "## Первое и второе слагаемое для P_расч."
   ]
  },
  {
   "cell_type": "code",
   "execution_count": 5,
   "id": "b4d6fcbc",
   "metadata": {},
   "outputs": [
    {
     "name": "stdout",
     "output_type": "stream",
     "text": [
      "-100.2020729326228 50.1010364663114 cos(tetta)\n"
     ]
    }
   ],
   "source": [
    "print(1 / n_nodes / np.cos(gamma) * N_p, \n",
    "      1 / n_nodes / np.cos(gamma) * 2 * M_p * 1e+3 / r1, \"cos(tetta)\")"
   ]
  },
  {
   "cell_type": "markdown",
   "id": "d876221d",
   "metadata": {},
   "source": [
    "## T_расч."
   ]
  },
  {
   "cell_type": "code",
   "execution_count": 6,
   "id": "2e2ee440",
   "metadata": {},
   "outputs": [
    {
     "name": "stdout",
     "output_type": "stream",
     "text": [
      "-10.671686145363054 sin(tetta)\n"
     ]
    }
   ],
   "source": [
    "print(2 / n_nodes * (Q_p + M_p * 1e+3 / r1 * tg_gamma), \"sin(tetta)\")"
   ]
  },
  {
   "cell_type": "markdown",
   "id": "44cca17d",
   "metadata": {},
   "source": [
    "## Получение таблицы 7.1"
   ]
  },
  {
   "cell_type": "code",
   "execution_count": 7,
   "id": "7b5d7f05",
   "metadata": {},
   "outputs": [
    {
     "data": {
      "text/html": [
       "<div>\n",
       "<style scoped>\n",
       "    .dataframe tbody tr th:only-of-type {\n",
       "        vertical-align: middle;\n",
       "    }\n",
       "\n",
       "    .dataframe tbody tr th {\n",
       "        vertical-align: top;\n",
       "    }\n",
       "\n",
       "    .dataframe thead th {\n",
       "        text-align: right;\n",
       "    }\n",
       "</style>\n",
       "<table border=\"1\" class=\"dataframe\">\n",
       "  <thead>\n",
       "    <tr style=\"text-align: right;\">\n",
       "      <th></th>\n",
       "      <th>tetta_degrees</th>\n",
       "      <th>tetta_radians</th>\n",
       "      <th>sin_tetta</th>\n",
       "      <th>cos_tetta</th>\n",
       "      <th>p_value</th>\n",
       "      <th>t_value</th>\n",
       "      <th>ni1</th>\n",
       "      <th>ni2</th>\n",
       "    </tr>\n",
       "  </thead>\n",
       "  <tbody>\n",
       "    <tr>\n",
       "      <th>1</th>\n",
       "      <td>0</td>\n",
       "      <td>0.000000</td>\n",
       "      <td>0.000000e+00</td>\n",
       "      <td>1.000000e+00</td>\n",
       "      <td>-50.101036</td>\n",
       "      <td>-0.000000e+00</td>\n",
       "      <td>-26.288598</td>\n",
       "      <td>-26.288598</td>\n",
       "    </tr>\n",
       "    <tr>\n",
       "      <th>2</th>\n",
       "      <td>45</td>\n",
       "      <td>0.785398</td>\n",
       "      <td>7.071068e-01</td>\n",
       "      <td>7.071068e-01</td>\n",
       "      <td>-64.775290</td>\n",
       "      <td>-7.546022e+00</td>\n",
       "      <td>-21.547299</td>\n",
       "      <td>-46.429400</td>\n",
       "    </tr>\n",
       "    <tr>\n",
       "      <th>3</th>\n",
       "      <td>90</td>\n",
       "      <td>1.570796</td>\n",
       "      <td>1.000000e+00</td>\n",
       "      <td>6.123234e-17</td>\n",
       "      <td>-100.202073</td>\n",
       "      <td>-1.067169e+01</td>\n",
       "      <td>-34.982893</td>\n",
       "      <td>-70.171497</td>\n",
       "    </tr>\n",
       "    <tr>\n",
       "      <th>4</th>\n",
       "      <td>135</td>\n",
       "      <td>2.356194</td>\n",
       "      <td>7.071068e-01</td>\n",
       "      <td>-7.071068e-01</td>\n",
       "      <td>-135.628856</td>\n",
       "      <td>-7.546022e+00</td>\n",
       "      <td>-58.724990</td>\n",
       "      <td>-83.607091</td>\n",
       "    </tr>\n",
       "    <tr>\n",
       "      <th>5</th>\n",
       "      <td>180</td>\n",
       "      <td>3.141593</td>\n",
       "      <td>1.224647e-16</td>\n",
       "      <td>-1.000000e+00</td>\n",
       "      <td>-150.303109</td>\n",
       "      <td>-1.306905e-15</td>\n",
       "      <td>-78.865793</td>\n",
       "      <td>-78.865793</td>\n",
       "    </tr>\n",
       "    <tr>\n",
       "      <th>6</th>\n",
       "      <td>225</td>\n",
       "      <td>3.926991</td>\n",
       "      <td>-7.071068e-01</td>\n",
       "      <td>-7.071068e-01</td>\n",
       "      <td>-135.628856</td>\n",
       "      <td>7.546022e+00</td>\n",
       "      <td>-83.607091</td>\n",
       "      <td>-58.724990</td>\n",
       "    </tr>\n",
       "    <tr>\n",
       "      <th>7</th>\n",
       "      <td>270</td>\n",
       "      <td>4.712389</td>\n",
       "      <td>-1.000000e+00</td>\n",
       "      <td>-1.836970e-16</td>\n",
       "      <td>-100.202073</td>\n",
       "      <td>1.067169e+01</td>\n",
       "      <td>-70.171497</td>\n",
       "      <td>-34.982893</td>\n",
       "    </tr>\n",
       "    <tr>\n",
       "      <th>8</th>\n",
       "      <td>315</td>\n",
       "      <td>5.497787</td>\n",
       "      <td>-7.071068e-01</td>\n",
       "      <td>7.071068e-01</td>\n",
       "      <td>-64.775290</td>\n",
       "      <td>7.546022e+00</td>\n",
       "      <td>-46.429400</td>\n",
       "      <td>-21.547299</td>\n",
       "    </tr>\n",
       "  </tbody>\n",
       "</table>\n",
       "</div>"
      ],
      "text/plain": [
       "   tetta_degrees  tetta_radians     sin_tetta     cos_tetta     p_value  \\\n",
       "1              0       0.000000  0.000000e+00  1.000000e+00  -50.101036   \n",
       "2             45       0.785398  7.071068e-01  7.071068e-01  -64.775290   \n",
       "3             90       1.570796  1.000000e+00  6.123234e-17 -100.202073   \n",
       "4            135       2.356194  7.071068e-01 -7.071068e-01 -135.628856   \n",
       "5            180       3.141593  1.224647e-16 -1.000000e+00 -150.303109   \n",
       "6            225       3.926991 -7.071068e-01 -7.071068e-01 -135.628856   \n",
       "7            270       4.712389 -1.000000e+00 -1.836970e-16 -100.202073   \n",
       "8            315       5.497787 -7.071068e-01  7.071068e-01  -64.775290   \n",
       "\n",
       "        t_value        ni1        ni2  \n",
       "1 -0.000000e+00 -26.288598 -26.288598  \n",
       "2 -7.546022e+00 -21.547299 -46.429400  \n",
       "3 -1.067169e+01 -34.982893 -70.171497  \n",
       "4 -7.546022e+00 -58.724990 -83.607091  \n",
       "5 -1.306905e-15 -78.865793 -78.865793  \n",
       "6  7.546022e+00 -83.607091 -58.724990  \n",
       "7  1.067169e+01 -70.171497 -34.982893  \n",
       "8  7.546022e+00 -46.429400 -21.547299  "
      ]
     },
     "execution_count": 7,
     "metadata": {},
     "output_type": "execute_result"
    }
   ],
   "source": [
    "tetta = np.arange(0, 360, 45)\n",
    "radians_tetta = np.radians(tetta)\n",
    "\n",
    "def p_value_i_node(tetta):\n",
    "    return 1 / n_nodes / np.cos(\n",
    "        gamma) * N_p + 1 / n_nodes / np.cos(\n",
    "        gamma) * 2 *M_p * 1e+3 /r1 * np.cos(radians_tetta)\n",
    "\n",
    "def t_value_i_node(tetta):\n",
    "    return 2 / n_nodes * (Q_p + M_p * 1e+3 / r1 * tg_gamma) * np.sin(tetta)\n",
    "\n",
    "p_values = p_value_i_node(radians_tetta); t_values = t_value_i_node(radians_tetta)\n",
    "sin_tetta = np.sin(radians_tetta); cos_tetta = np.cos(radians_tetta)\n",
    "n_i1 = p_values / 2 / cos_betta - t_values / 2 / sin_betta\n",
    "n_i2 = p_values / 2 / cos_betta + t_values / 2 / sin_betta\n",
    "\n",
    "dict_table_7_1 = {'tetta_degrees' : tetta, 'tetta_radians' : radians_tetta,\n",
    "                  'sin_tetta' : sin_tetta, 'cos_tetta' : cos_tetta,\n",
    "                 'p_value' : p_values, 't_value' : t_values,\n",
    "                 'ni1' : n_i1, 'ni2' : n_i2}\n",
    "\n",
    "table_1 = pd.DataFrame(dict_table_7_1, index = np.arange(1, n_nodes + 1))\n",
    "table_1"
   ]
  },
  {
   "cell_type": "markdown",
   "id": "f68e59f4",
   "metadata": {},
   "source": [
    "### максимальная нормальная нагрузка"
   ]
  },
  {
   "cell_type": "code",
   "execution_count": 8,
   "id": "18815829",
   "metadata": {},
   "outputs": [
    {
     "data": {
      "text/plain": [
       "83.60709091949201"
      ]
     },
     "execution_count": 8,
     "metadata": {},
     "output_type": "execute_result"
    }
   ],
   "source": [
    "N_max = max(abs(table_1.ni1.max()), abs(table_1.ni1.min()), abs(table_1.ni2.max()), abs(table_1.ni2.min()))\n",
    "N_max"
   ]
  },
  {
   "cell_type": "markdown",
   "id": "00ac76dd",
   "metadata": {},
   "source": [
    "По знаку из таблицы судим о том, какой характер она имеет: сжатие / расстяжение"
   ]
  },
  {
   "cell_type": "markdown",
   "id": "754bf7d4",
   "metadata": {},
   "source": [
    "# 7.3. Подбор сечения стержней переходной фермы "
   ]
  },
  {
   "cell_type": "markdown",
   "id": "1069e5f2",
   "metadata": {},
   "source": [
    "### Находим лямбду"
   ]
  },
  {
   "cell_type": "code",
   "execution_count": 9,
   "id": "56468740",
   "metadata": {},
   "outputs": [
    {
     "data": {
      "text/plain": [
       "26.44044209937678"
      ]
     },
     "execution_count": 9,
     "metadata": {},
     "output_type": "execute_result"
    }
   ],
   "source": [
    "# лямбда пропорциональности - гибкость стержня при sigma = sigma_pc\n",
    "\n",
    "lambda_pc = np.pi * (E / 8 / sigma_pc) ** 0.5\n",
    "lambda_pc"
   ]
  },
  {
   "cell_type": "code",
   "execution_count": 10,
   "id": "c8b72540",
   "metadata": {},
   "outputs": [
    {
     "name": "stdout",
     "output_type": "stream",
     "text": [
      "Лямбда по ф-ле 7.18 - 14.755373534128376\n",
      "Лямбда по ф-ле 7.18 меньше лямбда_пц, следовательно ищем ее итеративно по формуле 7.22:\n",
      "\t итерация 0, lambda = 0\n",
      "\t итерация 1, lambda = 11.844742947505537\n",
      "\t итерация 2, lambda = 11.498191739237548\n",
      "\n",
      "На итерации 3 лямбда равна 11.508784095243994, а ее разность с предыдущей итерацией отличается не больше, чем на 1% от нее самой.\n",
      "\tПринимаем lambda = 11.508784095243994\n"
     ]
    }
   ],
   "source": [
    "def lambda_7_18():\n",
    "    return np.pi / 2 * (E * l ** 2 / 2 / np.pi / k / N_max / 1e+3) ** (1/6)\n",
    "\n",
    "def lambda_7_22(lambda_previous):\n",
    "    return np.pi / 2 * (l ** 2 / np.pi / k / N_max / 1e+3) ** 0.25 * (sigma_02 -\n",
    "        (sigma_02 - sigma_pc) / lambda_pc * lambda_previous) ** 0.25\n",
    "\n",
    "print(f'Лямбда по ф-ле 7.18 - {lambda_7_18()}')\n",
    "\n",
    "if lambda_7_18() < lambda_pc:\n",
    "    print(\"Лямбда по ф-ле 7.18 меньше лямбда_пц, следовательно ищем ее итеративно по формуле 7.22:\")\n",
    "    lambda_prev = 0; counter = 0; flag = True;\n",
    "    \n",
    "    print(f'\\t итерация {counter}, lambda = {lambda_prev}')\n",
    "    while abs(lambda_7_22(lambda_prev) - lambda_prev) > lambda_prev * 0.01:\n",
    "        print(f'\\t итерация {counter + 1}, lambda = {lambda_7_22(lambda_prev)}')\n",
    "        lambda_prev = lambda_7_22(lambda_prev)\n",
    "        counter += 1\n",
    "    lambda_7_22 = lambda_7_22(lambda_prev)\n",
    "    lamb = lambda_7_22\n",
    "    print()\n",
    "    print(f'На итерации {counter + 1} лямбда равна {lambda_7_22}, а ее разность с предыдущей итерацией\\\n",
    " отличается не больше, чем на 1% от нее самой.\\n\\tПринимаем lambda = {lambda_7_22}')\n",
    "else:\n",
    "    lamb = lambda_7_18()\n",
    "    print(\"Лямбда по ф-ле 7.18 >= лямбда_пц\")\n",
    "    print(f'Лямбда = {lambda_7_18()}')"
   ]
  },
  {
   "cell_type": "markdown",
   "id": "05b11cee",
   "metadata": {},
   "source": [
    "### Находим по ф-ле 7.15 дельту"
   ]
  },
  {
   "cell_type": "code",
   "execution_count": 11,
   "id": "b122a984",
   "metadata": {},
   "outputs": [
    {
     "name": "stdout",
     "output_type": "stream",
     "text": [
      "1.7020755556650873 мм\n",
      "Округляя дельту в большую сторону, получим 2.0 мм\n"
     ]
    }
   ],
   "source": [
    "def delta():\n",
    "    return np.pi ** 2 * l / 16 / k / lamb ** 3\n",
    "print(delta(), 'мм')\n",
    "delta_true = np.ceil(delta())\n",
    "print('Округляя дельту в большую сторону, получим', delta_true, 'мм')"
   ]
  },
  {
   "cell_type": "markdown",
   "id": "060543e9",
   "metadata": {},
   "source": [
    "### Находим лямбду по ф-ле 7.21 или 7.17 после того, как нашли дельту"
   ]
  },
  {
   "cell_type": "code",
   "execution_count": 12,
   "id": "38f77be1",
   "metadata": {
    "scrolled": true
   },
   "outputs": [
    {
     "name": "stdout",
     "output_type": "stream",
     "text": [
      "Уточненная лямбда 13.269167639684724\n"
     ]
    }
   ],
   "source": [
    "def lambda_true_7_21():\n",
    "    return sigma_02 / (N_max * 1e+3 / np.pi / delta_true / l + (sigma_02 - sigma_pc) / lambda_pc)\n",
    "\n",
    "def lambda_true_7_17():\n",
    "    return np.pi / 2 * (E * l * delta_true / N_max / 1e+3) ** (1/3)\n",
    "\n",
    "if flag == True:\n",
    "    lambda_true = lambda_true_7_21()\n",
    "else:\n",
    "    lambda_true = lambda_true_7_21()\n",
    "    \n",
    "print('Уточненная лямбда', lambda_true)"
   ]
  },
  {
   "cell_type": "markdown",
   "id": "5d0adbe4",
   "metadata": {},
   "source": [
    "### Находим по ф-ле 7.13 диаметр"
   ]
  },
  {
   "cell_type": "code",
   "execution_count": 13,
   "id": "beb0000d",
   "metadata": {},
   "outputs": [
    {
     "name": "stdout",
     "output_type": "stream",
     "text": [
      "95.0965965458688\n",
      "d = 96.0\n"
     ]
    }
   ],
   "source": [
    "print(l / lambda_true)\n",
    "d = np.ceil(l / lambda_true)\n",
    "print(f'd = {d}')"
   ]
  },
  {
   "cell_type": "markdown",
   "id": "34ca8004",
   "metadata": {},
   "source": [
    "### Находим d1 & d2"
   ]
  },
  {
   "cell_type": "code",
   "execution_count": 14,
   "id": "cc15cb75",
   "metadata": {},
   "outputs": [
    {
     "name": "stdout",
     "output_type": "stream",
     "text": [
      "d1 = 94.0,\n",
      "d2 = 98.0\n"
     ]
    }
   ],
   "source": [
    "print(f'd1 = {d - delta_true},\\nd2 = {d + delta_true}')"
   ]
  },
  {
   "cell_type": "markdown",
   "id": "cf4e1932",
   "metadata": {},
   "source": [
    "### Площадь сечения и момент инерции"
   ]
  },
  {
   "cell_type": "code",
   "execution_count": 15,
   "id": "47261973",
   "metadata": {},
   "outputs": [
    {
     "name": "stdout",
     "output_type": "stream",
     "text": [
      "603.1857894892403 мм^2 694870.0294916048 мм^4\n"
     ]
    }
   ],
   "source": [
    "F = np.pi * d * delta_true; I = np.pi * delta_true * d ** 3 / 8\n",
    "print(F, 'мм^2', I, 'мм^4')"
   ]
  },
  {
   "attachments": {
    "image.png": {
     "image/png": "[encoded data removed]"
    }
   },
   "cell_type": "markdown",
   "id": "32607eb5",
   "metadata": {},
   "source": [
    "### Наибольшее расчетное напряжение от сжимающей силы\n",
    "![image.png](attachment:image.png)"
   ]
  },
  {
   "cell_type": "code",
   "execution_count": 16,
   "id": "a3ab3259",
   "metadata": {
    "scrolled": true
   },
   "outputs": [
    {
     "name": "stdout",
     "output_type": "stream",
     "text": [
      "138.60918538927783 МПа\n"
     ]
    }
   ],
   "source": [
    "sigma_max = N_max * 1e+3 / F\n",
    "print(sigma_max, \"МПа\")"
   ]
  },
  {
   "attachments": {
    "image.png": {
     "image/png": "[encoded data removed]"
    }
   },
   "cell_type": "markdown",
   "id": "ef618f5f",
   "metadata": {},
   "source": [
    "### По формуле Эйлера находим sigma_kr\n",
    "![image.png](attachment:image.png)"
   ]
  },
  {
   "cell_type": "code",
   "execution_count": 40,
   "id": "0dba7fc7",
   "metadata": {},
   "outputs": [
    {
     "name": "stdout",
     "output_type": "stream",
     "text": [
      "485.5610336440722 МПа\n"
     ]
    }
   ],
   "source": [
    "# В этом месте не сходится, так как ошибка в методичке\n",
    "sigma_kr = np.pi ** 2 * E * I / l ** 2 / F\n",
    "print(sigma_kr, 'МПа')"
   ]
  },
  {
   "attachments": {
    "image.png": {
     "image/png": "[encoded data removed]"
    }
   },
   "cell_type": "markdown",
   "id": "a0328a06",
   "metadata": {},
   "source": [
    "### Cигму со звездочкой примем равной 171.8 МПа, посчитаем s & sigma_kr_true\n",
    "![image.png](attachment:image.png)"
   ]
  },
  {
   "cell_type": "code",
   "execution_count": 18,
   "id": "26207479",
   "metadata": {},
   "outputs": [
    {
     "data": {
      "text/plain": [
       "(11.196258507141785, 143.6274256159135)"
      ]
     },
     "execution_count": 18,
     "metadata": {},
     "output_type": "execute_result"
    }
   ],
   "source": [
    "s = (1 + ((4 * sigma_star * sigma_kr) / ((sigma_star - sigma_pc) ** 2))) ** (1/2)\n",
    "sigma_kr_true = sigma_star * (s - 1) / (s + 1)\n",
    "s, sigma_kr_true"
   ]
  },
  {
   "attachments": {
    "image.png": {
     "image/png": "[encoded data removed]"
    }
   },
   "cell_type": "markdown",
   "id": "281b72bf",
   "metadata": {},
   "source": [
    "### Запас по общей устойчивости\n",
    "![image.png](attachment:image.png)"
   ]
  },
  {
   "cell_type": "code",
   "execution_count": 19,
   "id": "a6311961",
   "metadata": {},
   "outputs": [
    {
     "data": {
      "text/plain": [
       "1.0362042400908869"
      ]
     },
     "execution_count": 19,
     "metadata": {},
     "output_type": "execute_result"
    }
   ],
   "source": [
    "zapas_obsh = sigma_kr_true / sigma_max\n",
    "zapas_obsh"
   ]
  },
  {
   "attachments": {
    "image.png": {
     "image/png": "[encoded data removed]"
    }
   },
   "cell_type": "markdown",
   "id": "988df1b9",
   "metadata": {},
   "source": [
    "![image.png](attachment:image.png)"
   ]
  },
  {
   "cell_type": "code",
   "execution_count": 20,
   "id": "1c6d4eba",
   "metadata": {},
   "outputs": [
    {
     "data": {
      "text/plain": [
       "850.0"
      ]
     },
     "execution_count": 20,
     "metadata": {},
     "output_type": "execute_result"
    }
   ],
   "source": [
    "sigma_kr_mestn = 2 * k * E * delta_true / d;\n",
    "sigma_kr_mestn"
   ]
  },
  {
   "attachments": {
    "image-2.png": {
     "image/png": "[encoded data removed]"
    },
    "image-4.png": {
     "image/png": "[encoded data removed]"
    },
    "image.png": {
     "image/png": "[encoded data removed]"
    }
   },
   "cell_type": "markdown",
   "id": "4a33a1ad",
   "metadata": {},
   "source": [
    "Это значение превышает сигма_пц. Критическое меридиональное напряжение цилиндрической оболочки за пределом пц определяется по формуле ![image.png](attachment:image.png)\n",
    "Ек и Ес - касательный и секущий модули материала.\n",
    "![image-2.png](attachment:image-2.png)\n",
    "![image-4.png](attachment:image-4.png)"
   ]
  },
  {
   "cell_type": "code",
   "execution_count": 21,
   "id": "3c4ae10f",
   "metadata": {},
   "outputs": [
    {
     "name": "stdout",
     "output_type": "stream",
     "text": [
      "x = 209.530238229634\n",
      "Критическое меридиональное напряжение цилиндрической оболочки за пределом пц\n",
      "\t158.994020191686 МПа\n"
     ]
    }
   ],
   "source": [
    "x, y = sympy.symbols('x y');\n",
    "equation = x ** 2 * sigma_star / (sigma_star - sigma_pc) ** 2 - x - sigma_kr_mestn ** 2 / (x - \n",
    "    sigma_star + 2 * sigma_pc);\n",
    "roots = sympy.solve(equation, x);\n",
    "x = roots[0];\n",
    "print(f'x = {x}');\n",
    "\n",
    "sigma_kr_m_true = sigma_star - (sigma_star - sigma_pc) ** 2 / x\n",
    "print(f'Критическое меридиональное напряжение цилиндрической оболочки за пределом пц\\n\\t\\\n",
    "{sigma_kr_m_true} МПа')\n"
   ]
  },
  {
   "attachments": {
    "image.png": {
     "image/png": "[encoded data removed]"
    }
   },
   "cell_type": "markdown",
   "id": "120fcc9b",
   "metadata": {},
   "source": [
    "### Запас местной устойчивости\n",
    "![image.png](attachment:image.png)"
   ]
  },
  {
   "cell_type": "code",
   "execution_count": 22,
   "id": "5f2be03e",
   "metadata": {},
   "outputs": [
    {
     "data": {
      "text/latex": [
       "$\\displaystyle 1.14706698365738$"
      ],
      "text/plain": [
       "1.14706698365738"
      ]
     },
     "execution_count": 22,
     "metadata": {},
     "output_type": "execute_result"
    }
   ],
   "source": [
    "zapas_m = sigma_kr_m_true / sigma_max\n",
    "zapas_m"
   ]
  },
  {
   "cell_type": "markdown",
   "id": "b0b2a0d0",
   "metadata": {},
   "source": [
    "# 7.4. Определение перемещений переходной фермы"
   ]
  },
  {
   "attachments": {
    "image.png": {
     "image/png": "[encoded data removed]"
    }
   },
   "cell_type": "markdown",
   "id": "05eb2185",
   "metadata": {},
   "source": [
    "![image.png](attachment:image.png)"
   ]
  },
  {
   "cell_type": "code",
   "execution_count": 29,
   "id": "b53e54b4",
   "metadata": {},
   "outputs": [
    {
     "name": "stdout",
     "output_type": "stream",
     "text": [
      "k_0 = 260040.71179222706 Н/мм\n"
     ]
    }
   ],
   "source": [
    "k_0 = E * F * n_nodes / l\n",
    "print(f'k_0 = {k_0} Н/мм')"
   ]
  },
  {
   "attachments": {
    "image.png": {
     "image/png": "[encoded data removed]"
    }
   },
   "cell_type": "markdown",
   "id": "99ac851d",
   "metadata": {},
   "source": [
    "![image.png](attachment:image.png)"
   ]
  },
  {
   "cell_type": "code",
   "execution_count": 41,
   "id": "d0b1acbe",
   "metadata": {},
   "outputs": [
    {
     "data": {
      "text/plain": [
       "(2.1260989648289843e-06, 'mm/H')"
      ]
     },
     "execution_count": 41,
     "metadata": {},
     "output_type": "execute_result"
    }
   ],
   "source": [
    "delta11 = 1 / 2 / k_0 / cos_betta ** 2 / np.cos(gamma) ** 2\n",
    "delta11, 'mm/H'"
   ]
  },
  {
   "attachments": {
    "image.png": {
     "image/png": "[encoded data removed]"
    }
   },
   "cell_type": "markdown",
   "id": "b3d00ec3",
   "metadata": {},
   "source": [
    "![image.png](attachment:image.png)"
   ]
  },
  {
   "cell_type": "code",
   "execution_count": 44,
   "id": "4e4598d2",
   "metadata": {},
   "outputs": [
    {
     "data": {
      "text/plain": [
       "(4.1811586103039125e-05, 'mm/H')"
      ]
     },
     "execution_count": 44,
     "metadata": {},
     "output_type": "execute_result"
    }
   ],
   "source": [
    "delta22 = 1 / k_0 / sin_betta ** 2\n",
    "delta22, 'mm/H'"
   ]
  },
  {
   "attachments": {
    "image.png": {
     "image/png": "[encoded data removed]"
    }
   },
   "cell_type": "markdown",
   "id": "9f498b21",
   "metadata": {},
   "source": [
    "![image.png](attachment:image.png)"
   ]
  },
  {
   "cell_type": "code",
   "execution_count": 48,
   "id": "0f2c74ef",
   "metadata": {},
   "outputs": [
    {
     "data": {
      "text/plain": [
       "(4.421348457302096e-12, '1 / (H * mm)')"
      ]
     },
     "execution_count": 48,
     "metadata": {},
     "output_type": "execute_result"
    }
   ],
   "source": [
    "delta33 = 1 / k_0 / r1 ** 2 / cos_betta ** 2 / np.cos(gamma) ** 2 * (1 + np.sin(gamma) ** 2/tg_betta ** 2)\n",
    "delta33, '1 / (H * mm)'"
   ]
  },
  {
   "attachments": {
    "image.png": {
     "image/png": "[encoded data removed]"
    }
   },
   "cell_type": "markdown",
   "id": "a3fd36a1",
   "metadata": {},
   "source": [
    "![image.png](attachment:image.png)"
   ]
  },
  {
   "cell_type": "code",
   "execution_count": 50,
   "id": "46f3930b",
   "metadata": {},
   "outputs": [
    {
     "data": {
      "text/plain": [
       "(-2.6522645671732728e-09, '1 / H')"
      ]
     },
     "execution_count": 50,
     "metadata": {},
     "output_type": "execute_result"
    }
   ],
   "source": [
    "delta23 = delta32 = tg_gamma / k_0 / r1 / sin_betta ** 2\n",
    "delta23, '1 / H'"
   ]
  },
  {
   "attachments": {
    "image.png": {
     "image/png": "[encoded data removed]"
    }
   },
   "cell_type": "markdown",
   "id": "73acad65",
   "metadata": {},
   "source": [
    "![image.png](attachment:image.png)"
   ]
  },
  {
   "cell_type": "code",
   "execution_count": 53,
   "id": "2e9833bb",
   "metadata": {},
   "outputs": [
    {
     "name": "stdout",
     "output_type": "stream",
     "text": [
      "Осевое перемещение = -1.7008791718631875 [mm]\n"
     ]
    }
   ],
   "source": [
    "u = delta11 * N_p * 1e+3\n",
    "print(f'Осевое перемещение = {u} [mm]')"
   ]
  },
  {
   "attachments": {
    "image.png": {
     "image/png": "[encoded data removed]"
    }
   },
   "cell_type": "markdown",
   "id": "3272d2e4",
   "metadata": {},
   "source": [
    "![image.png](attachment:image.png)"
   ]
  },
  {
   "cell_type": "code",
   "execution_count": 56,
   "id": "c4d631e4",
   "metadata": {},
   "outputs": [
    {
     "name": "stdout",
     "output_type": "stream",
     "text": [
      "Радиальное перемещение = -1.7848004965258282 [mm]\n"
     ]
    }
   ],
   "source": [
    "nu = delta22 * Q_p * 1e+3 + delta23 * M_p * 1e+6\n",
    "print(f'Радиальное перемещение = {nu} [mm]')"
   ]
  },
  {
   "attachments": {
    "image.png": {
     "image/png": "[encoded data removed]"
    }
   },
   "cell_type": "markdown",
   "id": "ce51e70a",
   "metadata": {},
   "source": [
    "![image.png](attachment:image.png)"
   ]
  },
  {
   "cell_type": "code",
   "execution_count": 57,
   "id": "f226fcd7",
   "metadata": {},
   "outputs": [
    {
     "name": "stdout",
     "output_type": "stream",
     "text": [
      "Угол поворота = 0.0009638376284756173 [рад]\n"
     ]
    }
   ],
   "source": [
    "tetta_p = delta32 * Q_p * 1e+3 + delta33 * M_p * 1e+6\n",
    "print(f'Угол поворота = {tetta_p} [рад]')"
   ]
  }
 ],
 "metadata": {
  "kernelspec": {
   "display_name": "Python 3 (ipykernel)",
   "language": "python",
   "name": "python3"
  },
  "language_info": {
   "codemirror_mode": {
    "name": "ipython",
    "version": 3
   },
   "file_extension": ".py",
   "mimetype": "text/x-python",
   "name": "python",
   "nbconvert_exporter": "python",
   "pygments_lexer": "ipython3",
   "version": "3.9.7"
  }
 },
 "nbformat": 4,
 "nbformat_minor": 5
}
