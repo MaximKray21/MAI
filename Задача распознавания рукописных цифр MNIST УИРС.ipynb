{
 "cells": [
  {
   "cell_type": "markdown",
   "id": "c816a619",
   "metadata": {},
   "source": [
    "## DecisionTreeClassifier"
   ]
  },
  {
   "cell_type": "code",
   "execution_count": 1,
   "id": "da8a2e31",
   "metadata": {},
   "outputs": [],
   "source": [
    "from sklearn.datasets import load_digits\n",
    "# импортируем набор данных с рукописными цифрами и размечаем его на признаковое \n",
    "# описание Х и целевую переменную у\n",
    "data = load_digits()\n",
    "X, y = data.data, data.target\n",
    "\n",
    "# X[0,:].reshape([8,8])"
   ]
  },
  {
   "cell_type": "code",
   "execution_count": 2,
   "id": "b92411ea",
   "metadata": {},
   "outputs": [
    {
     "data": {
      "text/plain": [
       "array([[ 0.,  0.,  5., 13.,  9.,  1.,  0.,  0.],\n",
       "       [ 0.,  0., 13., 15., 10., 15.,  5.,  0.],\n",
       "       [ 0.,  3., 15.,  2.,  0., 11.,  8.,  0.],\n",
       "       [ 0.,  4., 12.,  0.,  0.,  8.,  8.,  0.],\n",
       "       [ 0.,  5.,  8.,  0.,  0.,  9.,  8.,  0.],\n",
       "       [ 0.,  4., 11.,  0.,  1., 12.,  7.,  0.],\n",
       "       [ 0.,  2., 14.,  5., 10., 12.,  0.,  0.],\n",
       "       [ 0.,  0.,  6., 13., 10.,  0.,  0.,  0.]])"
      ]
     },
     "execution_count": 2,
     "metadata": {},
     "output_type": "execute_result"
    }
   ],
   "source": [
    "# матрица пикселей\n",
    "X[0, : ].reshape([8,8])"
   ]
  },
  {
   "cell_type": "markdown",
   "id": "c5ecdbf1",
   "metadata": {},
   "source": [
    "Для того чтобы воспользоваться \"train_test_split\", необходимо данные data сначала разделить на матрицу признаков X и целевую переменную y. Затем мы импортируем метод из sklearn.model_selection и непосредственно используем его:"
   ]
  },
  {
   "cell_type": "code",
   "execution_count": 3,
   "id": "f3201489",
   "metadata": {},
   "outputs": [],
   "source": [
    "from sklearn.model_selection import train_test_split\n",
    "X_train, X_holdout, y_train, y_holdout = train_test_split(X, y, test_size=0.3,\n",
    "random_state=17)"
   ]
  },
  {
   "cell_type": "code",
   "execution_count": 4,
   "id": "6cd302bf",
   "metadata": {},
   "outputs": [],
   "source": [
    "# импортируем из библиотеки алгоритм решающего дерева\n",
    "from sklearn.tree import DecisionTreeClassifier"
   ]
  },
  {
   "cell_type": "code",
   "execution_count": 5,
   "id": "7a313d9b",
   "metadata": {},
   "outputs": [],
   "source": [
    "# импортируем из библиотеки метрику качества \"аккуратность\"\n",
    "from sklearn.metrics import accuracy_score"
   ]
  },
  {
   "cell_type": "code",
   "execution_count": 6,
   "id": "0d5396aa",
   "metadata": {},
   "outputs": [],
   "source": [
    "tree = DecisionTreeClassifier(random_state = 12)"
   ]
  },
  {
   "cell_type": "code",
   "execution_count": 7,
   "id": "e44eeebf",
   "metadata": {},
   "outputs": [],
   "source": [
    "tree_params = {'max_depth' : range(1,11), \n",
    "              'max_features' : range(5, 20)}\n",
    "from sklearn.model_selection import GridSearchCV\n",
    "tree_grid = GridSearchCV(tree,tree_params, cv = 5, n_jobs = -1)"
   ]
  },
  {
   "cell_type": "code",
   "execution_count": 8,
   "id": "deddc077",
   "metadata": {},
   "outputs": [
    {
     "data": {
      "text/plain": [
       "GridSearchCV(cv=5, estimator=DecisionTreeClassifier(random_state=12), n_jobs=-1,\n",
       "             param_grid={'max_depth': range(1, 11),\n",
       "                         'max_features': range(5, 20)})"
      ]
     },
     "execution_count": 8,
     "metadata": {},
     "output_type": "execute_result"
    }
   ],
   "source": [
    "tree_grid.fit(X, y)"
   ]
  },
  {
   "cell_type": "code",
   "execution_count": 9,
   "id": "3bed93bf",
   "metadata": {
    "scrolled": false
   },
   "outputs": [
    {
     "data": {
      "text/plain": [
       "({'max_depth': 10, 'max_features': 15}, 0.787440420922315)"
      ]
     },
     "execution_count": 9,
     "metadata": {},
     "output_type": "execute_result"
    }
   ],
   "source": [
    "tree_grid.best_params_, tree_grid.best_score_"
   ]
  },
  {
   "cell_type": "code",
   "execution_count": 10,
   "id": "a994e13a",
   "metadata": {},
   "outputs": [],
   "source": [
    "tree = DecisionTreeClassifier(max_depth = 10, max_features = 15, random_state = 12)"
   ]
  },
  {
   "cell_type": "code",
   "execution_count": 11,
   "id": "e2f72475",
   "metadata": {},
   "outputs": [
    {
     "data": {
      "text/plain": [
       "DecisionTreeClassifier(max_depth=10, max_features=15, random_state=12)"
      ]
     },
     "execution_count": 11,
     "metadata": {},
     "output_type": "execute_result"
    }
   ],
   "source": [
    "tree.fit(X_train, y_train)"
   ]
  },
  {
   "cell_type": "code",
   "execution_count": 12,
   "id": "6377b833",
   "metadata": {},
   "outputs": [],
   "source": [
    "pred = tree.predict(X_holdout)"
   ]
  },
  {
   "cell_type": "code",
   "execution_count": 13,
   "id": "74532653",
   "metadata": {},
   "outputs": [
    {
     "data": {
      "text/plain": [
       "0.8407407407407408"
      ]
     },
     "execution_count": 13,
     "metadata": {},
     "output_type": "execute_result"
    }
   ],
   "source": [
    "accuracy_score(y_holdout, pred)"
   ]
  },
  {
   "cell_type": "code",
   "execution_count": 14,
   "id": "aa5a3089",
   "metadata": {},
   "outputs": [],
   "source": [
    "# accuracy_score(y_holdout, pred) 0.8407407407407408"
   ]
  },
  {
   "cell_type": "markdown",
   "id": "c2808513",
   "metadata": {},
   "source": [
    "## kNN"
   ]
  },
  {
   "cell_type": "code",
   "execution_count": 15,
   "id": "6a0d69ff",
   "metadata": {},
   "outputs": [],
   "source": [
    "# импотируем из библиотеки алгоритм ближайших соседей\n",
    "from sklearn.neighbors import KNeighborsClassifier\n",
    "knn = KNeighborsClassifier()"
   ]
  },
  {
   "cell_type": "code",
   "execution_count": 16,
   "id": "9a39b5b1",
   "metadata": {},
   "outputs": [],
   "source": [
    "knn_params = {'n_neighbors' : range(1, 5),\n",
    "             'metric' : [\"minkowski\", \"manhattan\", \"euclidean\", \"chebyshev\"]}\n",
    "knn_grid = GridSearchCV(knn, knn_params, cv = 3, n_jobs = -1)"
   ]
  },
  {
   "cell_type": "code",
   "execution_count": 17,
   "id": "15906251",
   "metadata": {},
   "outputs": [],
   "source": [
    "from sklearn.preprocessing import StandardScaler\n",
    "\n",
    "scaler = StandardScaler().fit(X_train)\n",
    "x_train_scaled = scaler.transform(X_train)\n",
    "\n",
    "scaler = StandardScaler().fit(X_holdout)\n",
    "x_test_scaled = scaler.transform(X_holdout)"
   ]
  },
  {
   "cell_type": "code",
   "execution_count": 18,
   "id": "ba6d1751",
   "metadata": {},
   "outputs": [
    {
     "data": {
      "text/plain": [
       "GridSearchCV(cv=3, estimator=KNeighborsClassifier(), n_jobs=-1,\n",
       "             param_grid={'metric': ['minkowski', 'manhattan', 'euclidean',\n",
       "                                    'chebyshev'],\n",
       "                         'n_neighbors': range(1, 5)})"
      ]
     },
     "execution_count": 18,
     "metadata": {},
     "output_type": "execute_result"
    }
   ],
   "source": [
    "knn_grid.fit(x_train_scaled, y_train)"
   ]
  },
  {
   "cell_type": "code",
   "execution_count": 19,
   "id": "a196f3a5",
   "metadata": {},
   "outputs": [
    {
     "data": {
      "text/plain": [
       "({'metric': 'minkowski', 'n_neighbors': 3}, 0.9665871121718377)"
      ]
     },
     "execution_count": 19,
     "metadata": {},
     "output_type": "execute_result"
    }
   ],
   "source": [
    "knn_grid.best_params_, knn_grid.best_score_"
   ]
  },
  {
   "cell_type": "code",
   "execution_count": 20,
   "id": "34d6e672",
   "metadata": {},
   "outputs": [],
   "source": [
    "knn = KNeighborsClassifier(metric='minkowski', n_neighbors = 3)"
   ]
  },
  {
   "cell_type": "code",
   "execution_count": 21,
   "id": "0d5c91bb",
   "metadata": {},
   "outputs": [
    {
     "data": {
      "text/plain": [
       "KNeighborsClassifier(n_neighbors=3)"
      ]
     },
     "execution_count": 21,
     "metadata": {},
     "output_type": "execute_result"
    }
   ],
   "source": [
    "knn.fit(x_train_scaled, y_train)"
   ]
  },
  {
   "cell_type": "code",
   "execution_count": 22,
   "id": "56978d56",
   "metadata": {
    "scrolled": true
   },
   "outputs": [],
   "source": [
    "pred = knn_grid.predict(x_test_scaled)"
   ]
  },
  {
   "cell_type": "code",
   "execution_count": 23,
   "id": "e49fcfc5",
   "metadata": {},
   "outputs": [
    {
     "data": {
      "text/plain": [
       "0.9740740740740741"
      ]
     },
     "execution_count": 23,
     "metadata": {},
     "output_type": "execute_result"
    }
   ],
   "source": [
    "accuracy_score(y_holdout, pred)"
   ]
  }
 ],
 "metadata": {
  "kernelspec": {
   "display_name": "Python 3 (ipykernel)",
   "language": "python",
   "name": "python3"
  },
  "language_info": {
   "codemirror_mode": {
    "name": "ipython",
    "version": 3
   },
   "file_extension": ".py",
   "mimetype": "text/x-python",
   "name": "python",
   "nbconvert_exporter": "python",
   "pygments_lexer": "ipython3",
   "version": "3.9.7"
  }
 },
 "nbformat": 4,
 "nbformat_minor": 5
}
