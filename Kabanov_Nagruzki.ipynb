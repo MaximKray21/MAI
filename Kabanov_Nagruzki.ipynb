{
 "cells": [
  {
   "cell_type": "code",
   "execution_count": 30,
   "id": "b8b7a642",
   "metadata": {},
   "outputs": [],
   "source": [
    "class solving_cases:\n",
    "    def __init__(self, m = 20 + 0.04 + 0.06 + 0.8 + 20 + 45 + 20 + 40 + 75 + 7 + 19.2,\n",
    "                 p_du = 7.41 * (10**6), g = 9.81, n_vints = 40, material = 'titan',\n",
    "                 materials = {'titan' : 660}):\n",
    "        self.m = m # масса конструкции\n",
    "        self.p_du = p_du # тяга ДУ\n",
    "        self.g = g #\n",
    "        self.n_vints = n_vints # \n",
    "        self.sigma = materials[material]\n",
    "        self.material = material\n",
    "          \n",
    "    def info(self):\n",
    "        print(f'Количество винтов - {self.n_vints}, масса конструкции = {self.m} кг, тяга = {self.p_du},\\\n",
    " ускорение свободного падения = {self.g}, предел текучести = {self.sigma} для материала\\\n",
    " {self.material}')\n",
    "\n",
    "    def solve_n(self, rocket_mass = 257.3 * (10 ** 3)):\n",
    "        n = self.p_du / ((self.m + rocket_mass) * self.g)\n",
    "        print(f'перегрузка равна {n}') \n",
    "\n",
    "    def solve_case_1(self):\n",
    "\n",
    "        p = (1/self.n_vints) * self.m * self.g\n",
    "        d = (4 * p / (3.14 * (self.sigma / 1.1))) ** 0.5\n",
    "        print(f'диаметр стержня винта равен {d}')\n",
    "\n",
    "    def solve_case_2(self):\n",
    "\n",
    "        p = (1/self.n_vints) * ((self.m * self.g) + self.p_du)\n",
    "        d = (4 * p / (3.14 * (self.sigma / 1.1))) ** 0.5\n",
    "\n",
    "        print(f'диаметр стержня винта равен {d}')\n",
    "\n",
    "#     def solve_case_3(self):\n",
    "        \n",
    "        "
   ]
  },
  {
   "cell_type": "code",
   "execution_count": 31,
   "id": "4aeaa6a2",
   "metadata": {
    "scrolled": true
   },
   "outputs": [
    {
     "name": "stdout",
     "output_type": "stream",
     "text": [
      "Количество винтов - 40, масса конструкции = 247.1 кг, тяга = 7410000.0, ускорение свободного падения = 9.81, предел текучести = 660 для материала titan\n",
      "перегрузка равна 2.932868131526958\n",
      "диаметр стержня винта равен 0.35869921576236413\n",
      "диаметр стержня винта равен 19.83534136429763\n"
     ]
    }
   ],
   "source": [
    "case = solving_cases()\n",
    "case.info()\n",
    "case.solve_n()\n",
    "case.solve_case_1()\n",
    "case.solve_case_2()"
   ]
  }
 ],
 "metadata": {
  "kernelspec": {
   "display_name": "Python 3 (ipykernel)",
   "language": "python",
   "name": "python3"
  },
  "language_info": {
   "codemirror_mode": {
    "name": "ipython",
    "version": 3
   },
   "file_extension": ".py",
   "mimetype": "text/x-python",
   "name": "python",
   "nbconvert_exporter": "python",
   "pygments_lexer": "ipython3",
   "version": "3.9.7"
  }
 },
 "nbformat": 4,
 "nbformat_minor": 5
}
